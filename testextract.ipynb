{
 "cells": [
  {
   "cell_type": "code",
   "execution_count": 33,
   "metadata": {},
   "outputs": [
    {
     "name": "stdout",
     "output_type": "stream",
     "text": [
      "Text in the image:\n",
      " Rigit Ree\n",
      "EMP: GE 07-23 sume\n",
      "< i:\n",
      "a:\n",
      "\n",
      "(inclusive of all taxes) Batch No. “x\n",
      "\n",
      "Rum\n",
      "\n",
      "\n"
     ]
    }
   ],
   "source": [
    "import cv2\n",
    "from PIL import Image\n",
    "import pytesseract\n",
    "\n",
    "def draw_bounding_boxes(image_path):\n",
    "    # Read the image using OpenCV\n",
    "    img = cv2.imread(image_path)\n",
    "    # Convert the image to RGB (OpenCV uses BGR by default)\n",
    "    img_rgb = cv2.cvtColor(img, cv2.COLOR_BGR2RGB)\n",
    "    \n",
    "    # Use Tesseract to detect text boxes\n",
    "    boxes = pytesseract.image_to_data(img_rgb, output_type=pytesseract.Output.DICT)\n",
    "    \n",
    "    n_boxes = len(boxes['level'])\n",
    "    for i in range(n_boxes):\n",
    "        (x, y, w, h) = (boxes['left'][i], boxes['top'][i], boxes['width'][i], boxes['height'][i])\n",
    "        # Draw a bounding box around the detected text\n",
    "        cv2.rectangle(img, (x, y), (x + w, y + h), (0, 255, 0), 2)\n",
    "    \n",
    "    # Use Tesseract to extract text\n",
    "    text = pytesseract.image_to_string(img_rgb)\n",
    "    return img, text\n",
    "\n",
    "if __name__ == \"__main__\":\n",
    "    # Provide the path to the image\n",
    "    image_path = input(\"Enter the path to the image: \")\n",
    "    # Draw bounding boxes and extract text\n",
    "    img_with_boxes, extracted_text = draw_bounding_boxes(image_path)\n",
    "    \n",
    "    # Display the image with bounding boxes\n",
    "    cv2.imshow('Image with Bounding Boxes', img_with_boxes)\n",
    "    cv2.waitKey(0)\n",
    "    cv2.destroyAllWindows()\n",
    "    \n",
    "    # Print the extracted text\n",
    "    print(\"Text in the image:\\n\", extracted_text)\n"
   ]
  }
 ],
 "metadata": {
  "kernelspec": {
   "display_name": "Python 3",
   "language": "python",
   "name": "python3"
  },
  "language_info": {
   "codemirror_mode": {
    "name": "ipython",
    "version": 3
   },
   "file_extension": ".py",
   "mimetype": "text/x-python",
   "name": "python",
   "nbconvert_exporter": "python",
   "pygments_lexer": "ipython3",
   "version": "3.11.4"
  }
 },
 "nbformat": 4,
 "nbformat_minor": 2
}
